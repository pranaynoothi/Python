{
 "cells": [
  {
   "cell_type": "code",
   "execution_count": 9,
   "metadata": {},
   "outputs": [
    {
     "data": {
      "text/plain": [
       "[('Sai Krishna', 'Shalini'), ('Pranay', 'Anupama'), ('Abhinav', 'Prathyusha')]"
      ]
     },
     "execution_count": 9,
     "metadata": {},
     "output_type": "execute_result"
    }
   ],
   "source": [
    "a = {\"Pranay\", \"Sai Krishna\", \"Abhinav\"}\n",
    "b = {\"Anupama\", \"Prathyusha\", \"Shalini\"}\n",
    "\n",
    "list(zip(a,b))"
   ]
  },
  {
   "cell_type": "code",
   "execution_count": 5,
   "metadata": {},
   "outputs": [
    {
     "data": {
      "text/plain": [
       "[(1, ('cat', 'bat', 'mat')), (2, ('abc', 'def', 'ghi'))]"
      ]
     },
     "execution_count": 5,
     "metadata": {},
     "output_type": "execute_result"
    }
   ],
   "source": [
    "l1 = {3, 2, 1}\n",
    "a = (\"abc\",\"def\",\"ghi\")\n",
    "b = (\"cat\",\"bat\",\"mat\")\n",
    "l2 = {a,b,}\n",
    "list(zip(l1, l2))"
   ]
  },
  {
   "cell_type": "markdown",
   "metadata": {},
   "source": [
    "#enumerate()\n",
    "#syntax:(iterable, start = 0)\n",
    "\n",
    "#Iterable - any object that support iteration\n",
    "#start - the index value from which the counter is to be started, by default it is 0.\n",
    "\n",
    "\n",
    "\n"
   ]
  },
  {
   "cell_type": "code",
   "execution_count": 7,
   "metadata": {},
   "outputs": [
    {
     "name": "stdout",
     "output_type": "stream",
     "text": [
      "[(0, 'M.S Dhoni'), (1, 'Virat Kohli'), (2, 'Rohith Sharma')]\n"
     ]
    }
   ],
   "source": [
    "x = ('M.S Dhoni', 'Virat Kohli', 'Rohith Sharma')\n",
    "y = enumerate(x)\n",
    "print(list(y))"
   ]
  },
  {
   "cell_type": "code",
   "execution_count": 8,
   "metadata": {},
   "outputs": [
    {
     "name": "stdout",
     "output_type": "stream",
     "text": [
      "[(0, 'a'), (1, 'b'), (2, 'c')]\n"
     ]
    }
   ],
   "source": [
    "x = ('a', 'b', 'c')\n",
    "y = enumerate(x)\n",
    "print(list(y))"
   ]
  },
  {
   "cell_type": "markdown",
   "metadata": {},
   "source": [
    "#reduce()\n",
    "#It doesn't list based on the function and iterable we've passed.Instead it returns a single value.\n",
    "#In Python reduce() isn't a inbuilt function anymore, and it can be found in the functions module.\n",
    "#Syntax:\n",
    "reduce(function, sequence[, initial])"
   ]
  },
  {
   "cell_type": "code",
   "execution_count": null,
   "metadata": {},
   "outputs": [],
   "source": [
    "from functools import reduce\n",
    "\n",
    "def add(x,y):\n",
    "    return x + y\n",
    "\n",
    "list = [1, 2, 3, 4, 5]\n",
    "print(reduce(add, list))"
   ]
  },
  {
   "cell_type": "code",
   "execution_count": null,
   "metadata": {},
   "outputs": [],
   "source": [
    "#using lambdas\n",
    "from functools import reduce\n",
    "\n",
    "list = [1,2,3,4,5]\n",
    "print(reduce(lambda x, y : x + y, list))"
   ]
  },
  {
   "cell_type": "code",
   "execution_count": null,
   "metadata": {},
   "outputs": [],
   "source": [
    "from functools import reduce\n",
    "#using map( ) and filter( ) with lambda functions\n",
    "#sequence\n",
    "my_nums = [1,2,3,4,5]\n",
    "#def square(num):\n",
    "#return num ** 2\n",
    "print(reduce(lambda num : num ** 2,my_nums))\n"
   ]
  },
  {
   "cell_type": "code",
   "execution_count": null,
   "metadata": {},
   "outputs": [],
   "source": []
  }
 ],
 "metadata": {
  "kernelspec": {
   "display_name": "Python 3",
   "language": "python",
   "name": "python3"
  },
  "language_info": {
   "codemirror_mode": {
    "name": "ipython",
    "version": 3
   },
   "file_extension": ".py",
   "mimetype": "text/x-python",
   "name": "python",
   "nbconvert_exporter": "python",
   "pygments_lexer": "ipython3",
   "version": "3.7.6"
  }
 },
 "nbformat": 4,
 "nbformat_minor": 4
}
