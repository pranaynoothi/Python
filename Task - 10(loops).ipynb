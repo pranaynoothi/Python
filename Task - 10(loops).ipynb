{
 "cells": [
  {
   "cell_type": "code",
   "execution_count": 5,
   "metadata": {},
   "outputs": [
    {
     "name": "stdout",
     "output_type": "stream",
     "text": [
      "10\n",
      "9\n",
      "8\n",
      "7\n",
      "6\n",
      "5\n",
      "4\n",
      "3\n",
      "2\n",
      "1\n",
      "0\n"
     ]
    }
   ],
   "source": [
    "#using while loop print numbers from 10 to 1\n",
    "count = 10\n",
    "while (count>=0):\n",
    "    print(count)\n",
    "    count-=1"
   ]
  },
  {
   "cell_type": "code",
   "execution_count": 4,
   "metadata": {},
   "outputs": [
    {
     "name": "stdout",
     "output_type": "stream",
     "text": [
      "1\n",
      "2\n",
      "3.3\n",
      "True\n",
      "Python\n"
     ]
    }
   ],
   "source": [
    "#looping over tuples\n",
    "list1 = (1,2,3.3,True,\"Python\")\n",
    "for ele in list1:\n",
    "    print(ele)"
   ]
  },
  {
   "cell_type": "code",
   "execution_count": 6,
   "metadata": {},
   "outputs": [
    {
     "name": "stdout",
     "output_type": "stream",
     "text": [
      "1\n",
      "2\n",
      "3.3\n",
      "Python\n"
     ]
    }
   ],
   "source": [
    "#looping over sets\n",
    "set1  = {1,2,3.3,True,\"Python\"}\n",
    "for ele in set1:\n",
    "    print(ele)"
   ]
  },
  {
   "cell_type": "code",
   "execution_count": 16,
   "metadata": {},
   "outputs": [
    {
     "name": "stdout",
     "output_type": "stream",
     "text": [
      "BMW\n",
      "R850GS\n",
      "2020\n",
      "1800000\n"
     ]
    }
   ],
   "source": [
    "#looping over dictionaries\n",
    "dict1 = {\n",
    "    \"brand\": \"BMW\",\n",
    "    \"model\": \"R850GS\",\n",
    "    \"year\" : 2020,\n",
    "    \"cost\" : 1800000\n",
    "}\n",
    "for keys in dict1.values():\n",
    "    print(keys)"
   ]
  },
  {
   "cell_type": "code",
   "execution_count": null,
   "metadata": {},
   "outputs": [],
   "source": []
  }
 ],
 "metadata": {
  "kernelspec": {
   "display_name": "Python 3",
   "language": "python",
   "name": "python3"
  },
  "language_info": {
   "codemirror_mode": {
    "name": "ipython",
    "version": 3
   },
   "file_extension": ".py",
   "mimetype": "text/x-python",
   "name": "python",
   "nbconvert_exporter": "python",
   "pygments_lexer": "ipython3",
   "version": "3.7.6"
  }
 },
 "nbformat": 4,
 "nbformat_minor": 4
}
