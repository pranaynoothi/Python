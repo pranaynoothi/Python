{
 "cells": [
  {
   "cell_type": "code",
   "execution_count": 7,
   "metadata": {},
   "outputs": [
    {
     "name": "stdout",
     "output_type": "stream",
     "text": [
      "Enter the first number2\n",
      "Enter the second number2\n",
      "Enter the operation would you like to perform?\n",
      "2\n",
      "2 2 : 0\n"
     ]
    }
   ],
   "source": [
    "#Ask two numbers from users and store in num1 and num2\n",
    "\n",
    "num1 = int(input(\"Enter the first number\"))\n",
    "num2 = int(input(\"Enter the second number\"))\n",
    "\n",
    "\n",
    "\n",
    "\n",
    "#Ask user to press 1 for addition,2 for substraction,3 for multiplication,4 for division\n",
    "\n",
    "print(\"Enter the operation would you like to perform?\")\n",
    "num = int(input())\n",
    "\n",
    "result = 0\n",
    "\n",
    "#Based on the given number by user do the math opearation\n",
    "\n",
    "if(num == 1):\n",
    "    result = num1 + num2\n",
    "elif(num == 2): \n",
    "    result = num1 - num2\n",
    "elif(num == 3):\n",
    "    result = num1 * num2\n",
    "elif(num == 4):\n",
    "    result = num1 / num2\n",
    "else:\n",
    "    print(\"Input character is not recognized\")\n",
    "print(num1, num, ':', result)"
   ]
  },
  {
   "cell_type": "code",
   "execution_count": null,
   "metadata": {},
   "outputs": [],
   "source": []
  }
 ],
 "metadata": {
  "kernelspec": {
   "display_name": "Python 3",
   "language": "python",
   "name": "python3"
  },
  "language_info": {
   "codemirror_mode": {
    "name": "ipython",
    "version": 3
   },
   "file_extension": ".py",
   "mimetype": "text/x-python",
   "name": "python",
   "nbconvert_exporter": "python",
   "pygments_lexer": "ipython3",
   "version": "3.7.6"
  }
 },
 "nbformat": 4,
 "nbformat_minor": 4
}
