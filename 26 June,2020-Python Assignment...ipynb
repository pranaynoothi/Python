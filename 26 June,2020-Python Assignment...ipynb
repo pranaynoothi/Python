{
 "cells": [
  {
   "cell_type": "code",
   "execution_count": 1,
   "metadata": {},
   "outputs": [
    {
     "name": "stdout",
     "output_type": "stream",
     "text": [
      "Enter the string: welcome to python\n",
      "Enter the substring: to\n",
      "Substring is present\n"
     ]
    }
   ],
   "source": [
    "# Python program to check for the substring in the given string using 'in' operator\n",
    "str1 = input(\"Enter the string: \")\n",
    "substr1 = input(\"Enter the substring: \")\n",
    "# checking whether the string 'str1' contains \"to\"\n",
    "if(substr1 in str1):\n",
    "  print (\"Substring is present\")\n",
    "else:\n",
    "  print (\"Substring is not present\")\n"
   ]
  },
  {
   "cell_type": "code",
   "execution_count": null,
   "metadata": {},
   "outputs": [],
   "source": [
    "#In Built Functions In Strings.\n",
    "\n",
    "1.title() - converts the first character of each word to upper case.\n",
    "\n",
    "2.startswith() - returns true if the string starts with the specified value.\n",
    "\n",
    "3.rfind() - searches the string for a specified value and return the last position of where it was found.\n",
    "\n",
    "4.isdigit() - returns true if all charcaters in the strings are digits.\n",
    "\n",
    "5.isalpha() - returns true if all characters in the string are alphabet."
   ]
  }
 ],
 "metadata": {
  "kernelspec": {
   "display_name": "Python 3",
   "language": "python",
   "name": "python3"
  },
  "language_info": {
   "codemirror_mode": {
    "name": "ipython",
    "version": 3
   },
   "file_extension": ".py",
   "mimetype": "text/x-python",
   "name": "python",
   "nbconvert_exporter": "python",
   "pygments_lexer": "ipython3",
   "version": "3.7.6"
  }
 },
 "nbformat": 4,
 "nbformat_minor": 4
}
